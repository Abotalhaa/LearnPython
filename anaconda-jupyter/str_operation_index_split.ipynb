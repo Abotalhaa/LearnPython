{
 "cells": [
  {
   "cell_type": "code",
   "execution_count": 1,
   "id": "7f4394b8",
   "metadata": {},
   "outputs": [],
   "source": [
    "name = \"KhaledLela\""
   ]
  },
  {
   "cell_type": "code",
   "execution_count": 2,
   "id": "d5dfc58a",
   "metadata": {},
   "outputs": [
    {
     "name": "stdout",
     "output_type": "stream",
     "text": [
      "KhaledLela\n"
     ]
    }
   ],
   "source": [
    "print(name[0:10])"
   ]
  },
  {
   "cell_type": "code",
   "execution_count": 4,
   "id": "23784812",
   "metadata": {},
   "outputs": [
    {
     "name": "stdout",
     "output_type": "stream",
     "text": [
      "a\n"
     ]
    }
   ],
   "source": [
    "print(name[-1])"
   ]
  },
  {
   "cell_type": "code",
   "execution_count": 5,
   "id": "37b1c8bc",
   "metadata": {},
   "outputs": [
    {
     "name": "stdout",
     "output_type": "stream",
     "text": [
      "K\n"
     ]
    }
   ],
   "source": [
    "print(name[-10])"
   ]
  },
  {
   "cell_type": "code",
   "execution_count": 6,
   "id": "ae134f8d",
   "metadata": {},
   "outputs": [
    {
     "name": "stdout",
     "output_type": "stream",
     "text": [
      "\n"
     ]
    }
   ],
   "source": [
    "print(name[-1:-10])"
   ]
  },
  {
   "cell_type": "code",
   "execution_count": 7,
   "id": "7acdb1c2",
   "metadata": {},
   "outputs": [
    {
     "name": "stdout",
     "output_type": "stream",
     "text": [
      "aleLdelah\n"
     ]
    }
   ],
   "source": [
    "print(name[-1:-10:-1])"
   ]
  },
  {
   "cell_type": "code",
   "execution_count": 8,
   "id": "318a8a24",
   "metadata": {},
   "outputs": [
    {
     "name": "stdout",
     "output_type": "stream",
     "text": [
      "aleLdelahK\n"
     ]
    }
   ],
   "source": [
    "print(name[-1:-11:-1])"
   ]
  },
  {
   "cell_type": "code",
   "execution_count": null,
   "id": "90fdf01d",
   "metadata": {},
   "outputs": [],
   "source": []
  }
 ],
 "metadata": {
  "kernelspec": {
   "display_name": "Python 3 (ipykernel)",
   "language": "python",
   "name": "python3"
  },
  "language_info": {
   "codemirror_mode": {
    "name": "ipython",
    "version": 3
   },
   "file_extension": ".py",
   "mimetype": "text/x-python",
   "name": "python",
   "nbconvert_exporter": "python",
   "pygments_lexer": "ipython3",
   "version": "3.9.12"
  }
 },
 "nbformat": 4,
 "nbformat_minor": 5
}
